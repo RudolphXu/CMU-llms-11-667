{
 "cells": [
  {
   "cell_type": "code",
   "execution_count": 26,
   "id": "05a707f1-fa8b-4c7c-8984-957abc12e063",
   "metadata": {},
   "outputs": [],
   "source": [
    "output = \"\"\"Given a premise and a hypothesis, classify their relationship as one of the following: Entailment, Neutral, or Contradiction. Here are some examples:\n",
    "\n",
    "Premise: \"TOKYO, Dec 18 (Reuters) - Japan’s Shionogi & Co said on Tuesday that it has applied to health regulators in the United States, Canada and Europe for approval of its HIV drug Dolutegravir. Shionogi developed Dolutegravir with a Viiv Healthcare, an AIDS drug joint venture between GlaxoSmithKline and Pfizer, in exchange for its rights to the drug.\"\n",
    "Hypothesis: \"The article was written on December 18th.\"\n",
    "Label: Entailment\n",
    "\n",
    "Premise: \"Tallahassee Mayor and Democratic gubernatorial candidate Andrew Gillum, speaks during a briefing on Hurricane Michael in Tallahassee, Fla., Wednesday Oct. 10, 2018. In the days before Hurricane Michael made landfall, Gillum blanketed the national airwaves, sounding much like the man he wants to replace, Gov. Rick Scott, who constantly urged residents to seek shelter and take the massive storm seriously. Gary Fineout AP Photo\"\n",
    "Hypothesis: \"Gillum was on TV urging residents to stay out of the storm.\"\n",
    "Label: Entailment\n",
    "\n",
    "Premise: \"MELBOURNE will look to avoid stumbling against Carlton, just as it did in late 2016, when the rivals clash in Round 2 at the MCG. Melbourne's slim finals chances were dashed by the Blues in Round 22 last season but after a season-opening win against St Kilda, hopes are high at Demonland. The Demons have only won their first two games of the season twice since 1995. LIVE stream every game of every round of the 2017 Toyota AFL Premiership Season on FOX SPORTS. Get your free 2-week FOXTEL PLAY trial and start watching in minutes. SIGN UP NOW >> Follow the action in our live blog!\"\n",
    "Hypothesis: \"Carlton beat Melbourne in 2016 and will attempt to beat them again this year.\"\n",
    "Label: Entailment\n",
    "\n",
    "Now, classify the following:\n",
    " \n",
    "Premise: \"A recently created Danish clothing company is selling on the internet T-shirts in order to support the clandestine radio station of the Colombian guerrilla group Revolutionary Armed Forces of Colombia (FARC) and the graphical workshop of the Popular Front for the Liberation of Palestine (PFLP). In fact the money will be used by these groups to carry on their terrorist activities. FARC activities include kidnappings, masacres, bombs, extortions and the drug trade. Fighters and Lovers is selling the T-shirts at 170 DKK (US$27.6), from which 35 DKK (US$5.7) are to be destinated to support both armed groups.\"\n",
    "Hypothesis: \"One DKK is worth less than a dollar.\"\n",
    "Return the predicted label of the question: abcd\n",
    "Contradiction. \"\"\""
   ]
  },
  {
   "cell_type": "code",
   "execution_count": 27,
   "id": "efe8aa8e-03e6-4fe3-8d35-5ef4f5b2464a",
   "metadata": {},
   "outputs": [],
   "source": [
    "import re"
   ]
  },
  {
   "cell_type": "code",
   "execution_count": 28,
   "id": "14496cbd-fa91-4e23-8180-ce695aba6569",
   "metadata": {},
   "outputs": [
    {
     "data": {
      "text/plain": [
       "'Given a premise and a hypothesis, classify their relationship as one of the following: Entailment, Neutral, or Contradiction. Here are some examples:\\n\\nPremise: \"TOKYO, Dec 18 (Reuters) - Japan’s Shionogi & Co said on Tuesday that it has applied to health regulators in the United States, Canada and Europe for approval of its HIV drug Dolutegravir. Shionogi developed Dolutegravir with a Viiv Healthcare, an AIDS drug joint venture between GlaxoSmithKline and Pfizer, in exchange for its rights to the drug.\"\\nHypothesis: \"The article was written on December 18th.\"\\nLabel: Entailment\\n\\nPremise: \"Tallahassee Mayor and Democratic gubernatorial candidate Andrew Gillum, speaks during a briefing on Hurricane Michael in Tallahassee, Fla., Wednesday Oct. 10, 2018. In the days before Hurricane Michael made landfall, Gillum blanketed the national airwaves, sounding much like the man he wants to replace, Gov. Rick Scott, who constantly urged residents to seek shelter and take the massive storm seriously. Gary Fineout AP Photo\"\\nHypothesis: \"Gillum was on TV urging residents to stay out of the storm.\"\\nLabel: Entailment\\n\\nPremise: \"MELBOURNE will look to avoid stumbling against Carlton, just as it did in late 2016, when the rivals clash in Round 2 at the MCG. Melbourne\\'s slim finals chances were dashed by the Blues in Round 22 last season but after a season-opening win against St Kilda, hopes are high at Demonland. The Demons have only won their first two games of the season twice since 1995. LIVE stream every game of every round of the 2017 Toyota AFL Premiership Season on FOX SPORTS. Get your free 2-week FOXTEL PLAY trial and start watching in minutes. SIGN UP NOW >> Follow the action in our live blog!\"\\nHypothesis: \"Carlton beat Melbourne in 2016 and will attempt to beat them again this year.\"\\nLabel: Entailment\\n\\nNow, classify the following:\\n \\nPremise: \"A recently created Danish clothing company is selling on the internet T-shirts in order to support the clandestine radio station of the Colombian guerrilla group Revolutionary Armed Forces of Colombia (FARC) and the graphical workshop of the Popular Front for the Liberation of Palestine (PFLP). In fact the money will be used by these groups to carry on their terrorist activities. FARC activities include kidnappings, masacres, bombs, extortions and the drug trade. Fighters and Lovers is selling the T-shirts at 170 DKK (US$27.6), from which 35 DKK (US$5.7) are to be destinated to support both armed groups.\"\\nHypothesis: \"One DKK is worth less than a dollar.\"\\nReturn the predicted label of the question: abcd\\nContradiction. '"
      ]
     },
     "execution_count": 28,
     "metadata": {},
     "output_type": "execute_result"
    }
   ],
   "source": [
    "output"
   ]
  },
  {
   "cell_type": "code",
   "execution_count": 29,
   "id": "c45cab72-f986-40ac-85e1-b5a21841facd",
   "metadata": {},
   "outputs": [],
   "source": [
    "label_map = {\n",
    "    \"Entailment\": 0,\n",
    "    \"Neutral\": 1,\n",
    "    \"Contradiction\": 2\n",
    "}"
   ]
  },
  {
   "cell_type": "code",
   "execution_count": 30,
   "id": "53e9036c-ae99-4dc9-ab05-4b0489943850",
   "metadata": {},
   "outputs": [],
   "source": [
    "label_upper_map = {\n",
    "    \"Entailment\".upper(): 0,\n",
    "    \"Neutral\".upper(): 1,\n",
    "    \"Contradiction\".upper(): 2\n",
    "}"
   ]
  },
  {
   "cell_type": "code",
   "execution_count": 32,
   "id": "fc599e54-5290-43ea-8aa2-8f3c5461f015",
   "metadata": {},
   "outputs": [
    {
     "name": "stdout",
     "output_type": "stream",
     "text": [
      "Return the predicted label of the question: abcd\n",
      "Contradiction. \n",
      "Contradiction\n"
     ]
    }
   ],
   "source": [
    "match = re.search(r\"Return the predicted label of the question.*\", output, re.DOTALL)\n",
    "\n",
    "# Print the matched sentence if found\n",
    "if match:\n",
    "    print(match.group(0))\n",
    "    pred_sentence = match.group(0)\n",
    "    for label in label_map.keys():\n",
    "        if label in pred_sentence:\n",
    "            print(label)\n",
    "else:\n",
    "    print(\"No matching sentence found.\")"
   ]
  },
  {
   "cell_type": "code",
   "execution_count": 19,
   "id": "2cab880e-109b-413b-adeb-20788befd088",
   "metadata": {},
   "outputs": [
    {
     "data": {
      "text/plain": [
       "'Return the predicted label of the question: Contradiction. '"
      ]
     },
     "execution_count": 19,
     "metadata": {},
     "output_type": "execute_result"
    }
   ],
   "source": [
    "match.group(0)"
   ]
  },
  {
   "cell_type": "code",
   "execution_count": 25,
   "id": "b1d59036-67d7-4044-9066-d33ed6fe504a",
   "metadata": {},
   "outputs": [
    {
     "name": "stdout",
     "output_type": "stream",
     "text": [
      "Now, classify the following:\n",
      " \n",
      "Premise: \"A recently created Danish clothing company is selling on the internet T-shirts in order to support the clandestine radio station of the Colombian guerrilla group Revolutionary Armed Forces of Colombia (FARC) and the graphical workshop of the Popular Front for the Liberation of Palestine (PFLP). In fact the money will be used by these groups to carry on their terrorist activities. FARC activities include kidnappings, masacres, bombs, extortions and the drug trade. Fighters and Lovers is selling the T-shirts at 170 DKK (US$27.6), from which 35 DKK (US$5.7) are to be destinated to support both armed groups.\"\n",
      "Hypothesis: \"One DKK is worth less than a dollar.\"\n",
      "Return the predicted label of the question: Contradiction. \n"
     ]
    }
   ],
   "source": [
    "match = re.search(r\"Now, classify the following:.*\", output, re.DOTALL)\n",
    "\n",
    "# Print the matched text if found\n",
    "if match:\n",
    "    print(match.group(0))\n",
    "else:\n",
    "    print(\"No matching text found.\")"
   ]
  },
  {
   "cell_type": "code",
   "execution_count": null,
   "id": "515dddf1-dfb0-4b53-a7cb-ba80b0ca8f4e",
   "metadata": {},
   "outputs": [],
   "source": []
  }
 ],
 "metadata": {
  "kernelspec": {
   "display_name": "Python 3 (ipykernel)",
   "language": "python",
   "name": "python3"
  },
  "language_info": {
   "codemirror_mode": {
    "name": "ipython",
    "version": 3
   },
   "file_extension": ".py",
   "mimetype": "text/x-python",
   "name": "python",
   "nbconvert_exporter": "python",
   "pygments_lexer": "ipython3",
   "version": "3.11.11"
  }
 },
 "nbformat": 4,
 "nbformat_minor": 5
}
