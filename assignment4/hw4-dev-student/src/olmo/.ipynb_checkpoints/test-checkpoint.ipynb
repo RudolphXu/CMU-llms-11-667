{
 "cells": [
  {
   "cell_type": "code",
   "execution_count": 2,
   "id": "2c7f360d-5c11-41f1-8998-c90b40a376f2",
   "metadata": {},
   "outputs": [],
   "source": [
    "import json"
   ]
  },
  {
   "cell_type": "code",
   "execution_count": 11,
   "id": "3978f087-8a29-4bb1-a6c6-946bcd005aec",
   "metadata": {},
   "outputs": [],
   "source": [
    "\n",
    "questions = [\n",
    "    {\"prompt\": \"Explain quantum computing to me like I’m five years old.\"},\n",
    "    {\"prompt\": \"Tell me how particle accelerators work in the most basic language possible.\"},\n",
    "    {\"prompt\": \"Pretend I’m really dumb and explain why gravity exists.\"}\n",
    "]\n",
    "\n",
    "with open(\"input_test.json\", \"w\", encoding=\"utf-8\") as f:\n",
    "    for q in questions:\n",
    "        f.write(json.dumps(q) + \"\\n\")"
   ]
  },
  {
   "cell_type": "code",
   "execution_count": 12,
   "id": "73884dc8-4c9a-4246-9917-be49b6ea802f",
   "metadata": {},
   "outputs": [],
   "source": [
    "with open('input_test.json', 'r') as f:\n",
    "    data = [json.loads(line) for line in f]"
   ]
  },
  {
   "cell_type": "code",
   "execution_count": 3,
   "id": "0fe8e318-3a88-40f0-907a-a7fad16db63e",
   "metadata": {},
   "outputs": [],
   "source": [
    "with open('output_test.json', 'r') as f:\n",
    "    data = [json.loads(line) for line in f]"
   ]
  },
  {
   "cell_type": "code",
   "execution_count": 4,
   "id": "f8a63f0e-bcb3-4d4a-88bd-5159feee8ca8",
   "metadata": {},
   "outputs": [
    {
     "data": {
      "text/plain": [
       "['Explain quantum computing to me like I’m five years old.',\n",
       " 'Tell me how particle accelerators work in the most basic language possible.',\n",
       " 'Pretend I’m really dumb and explain why gravity exists.']"
      ]
     },
     "execution_count": 4,
     "metadata": {},
     "output_type": "execute_result"
    }
   ],
   "source": [
    "[item['prompt'] for item in data]"
   ]
  },
  {
   "cell_type": "code",
   "execution_count": null,
   "id": "ddbbc101-99bf-429d-8e88-189a7c7ff62a",
   "metadata": {},
   "outputs": [],
   "source": [
    "data"
   ]
  }
 ],
 "metadata": {
  "kernelspec": {
   "display_name": "Python 3 (ipykernel)",
   "language": "python",
   "name": "python3"
  },
  "language_info": {
   "codemirror_mode": {
    "name": "ipython",
    "version": 3
   },
   "file_extension": ".py",
   "mimetype": "text/x-python",
   "name": "python",
   "nbconvert_exporter": "python",
   "pygments_lexer": "ipython3",
   "version": "3.12.2"
  }
 },
 "nbformat": 4,
 "nbformat_minor": 5
}
