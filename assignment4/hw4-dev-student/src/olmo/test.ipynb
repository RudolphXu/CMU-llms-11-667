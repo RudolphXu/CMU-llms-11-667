{
 "cells": [
  {
   "cell_type": "code",
   "execution_count": 2,
   "id": "2c7f360d-5c11-41f1-8998-c90b40a376f2",
   "metadata": {},
   "outputs": [],
   "source": [
    "import json"
   ]
  },
  {
   "cell_type": "code",
   "execution_count": 11,
   "id": "3978f087-8a29-4bb1-a6c6-946bcd005aec",
   "metadata": {},
   "outputs": [],
   "source": [
    "\n",
    "questions = [\n",
    "    {\"prompt\": \"Explain quantum computing to me like I’m five years old.\"},\n",
    "    {\"prompt\": \"Tell me how particle accelerators work in the most basic language possible.\"},\n",
    "    {\"prompt\": \"Pretend I’m really dumb and explain why gravity exists.\"}\n",
    "]\n",
    "\n",
    "with open(\"input_test.json\", \"w\", encoding=\"utf-8\") as f:\n",
    "    for q in questions:\n",
    "        f.write(json.dumps(q) + \"\\n\")"
   ]
  },
  {
   "cell_type": "code",
   "execution_count": 12,
   "id": "73884dc8-4c9a-4246-9917-be49b6ea802f",
   "metadata": {},
   "outputs": [],
   "source": [
    "with open('input_test.json', 'r') as f:\n",
    "    data = [json.loads(line) for line in f]"
   ]
  },
  {
   "cell_type": "code",
   "execution_count": 3,
   "id": "0fe8e318-3a88-40f0-907a-a7fad16db63e",
   "metadata": {},
   "outputs": [],
   "source": [
    "with open('output_test.json', 'r') as f:\n",
    "    data = [json.loads(line) for line in f]"
   ]
  },
  {
   "cell_type": "code",
   "execution_count": 4,
   "id": "f8a63f0e-bcb3-4d4a-88bd-5159feee8ca8",
   "metadata": {},
   "outputs": [
    {
     "data": {
      "text/plain": [
       "['Explain quantum computing to me like I’m five years old.',\n",
       " 'Tell me how particle accelerators work in the most basic language possible.',\n",
       " 'Pretend I’m really dumb and explain why gravity exists.']"
      ]
     },
     "execution_count": 4,
     "metadata": {},
     "output_type": "execute_result"
    }
   ],
   "source": [
    "[item['prompt'] for item in data]"
   ]
  },
  {
   "cell_type": "code",
   "execution_count": 5,
   "id": "ddbbc101-99bf-429d-8e88-189a7c7ff62a",
   "metadata": {},
   "outputs": [
    {
     "data": {
      "text/plain": [
       "[{'prompt': 'Explain quantum computing to me like I’m five years old.',\n",
       "  'output': 'Explain quantum computing to me like I’m five years old.\\nQuantum computing is a new way of computing that uses quantum mechanics to perform calculations. It’s different from traditional computing because it uses quantum bits, or qubits, instead of bits.\\nQubits are more powerful than bits because they can exist in multiple states at the same time. This means that quantum computers can perform calculations much faster than traditional computers.\\nQuantum computing is still in its early stages, but it has the potential to revolutionize the way we do things. It could be used to solve problems that are too complex for traditional computers, or to create new drugs and materials.\\nQuantum computing is a new way of computing that uses quantum mechanics to perform calculations. It’s different from traditional computing because it uses quantum bits, or qubits, instead of bits. Qubits are more powerful than bits because they can exist in multiple states at the same time. This means that quantum computers can perform calculations much faster than traditional computers.\\nQuantum computing is a new way of computing that uses quantum mechanics to perform calculations. It’s different from traditional computing because it uses quantum bits, or qubits, instead of bits. Qubits are more powerful than bits because they can exist in multiple states at the same time. This means that quantum computers can perform calculations much faster than traditional computers.\\nQuantum computing is a new way of computing that uses quantum mechanics to perform calculations. It’s different from traditional computing because it uses quantum bits, or qubits, instead of bits. Qub'},\n",
       " {'prompt': 'Tell me how particle accelerators work in the most basic language possible.',\n",
       "  'output': \"Tell me how particle accelerators work in the most basic language possible.\\n\\nI'm not asking for a full explanation of how they work, I'm asking for a basic explanation of how they work.\\n\\nI'm not asking for a full explanation of how they work, I'm asking for a basic explanation of how they work.\\n\\nI'm not asking for a full explanation of how they work, I'm asking for a basic explanation of how they work.\\n\\nI'm not asking for a full explanation of how they work, I'm asking for a basic explanation of how they work.\\n\\nI'm not asking for a full explanation of how they work, I'm asking for a basic explanation of how they work.\\n\\nI'm not asking for a full explanation of how they work, I'm asking for a basic explanation of how they work.\\n\\nI'm not asking for a full explanation of how they work, I'm asking for a basic explanation of how they work.\\n\\nI'm not asking for a full explanation of how they work, I'm asking for a basic explanation of how they work.\\n\\nI'm not asking for a full explanation of how they work, I'm asking for a basic explanation of how they work.\\n\\nI'm not asking for a full explanation of how they work, I'm asking for a basic explanation of how they work.\\n\\nI'm not asking for a full explanation of how they work, I'm asking for a basic explanation of how they work.\\n\\nI\"},\n",
       " {'prompt': 'Pretend I’m really dumb and explain why gravity exists.',\n",
       "  'output': 'Pretend I’m really dumb and explain why gravity exists.\\n\\nGravity is a force that exists between all objects in the universe. It is the force that keeps us on the ground, and it is the force that keeps the moon in orbit around the earth. Gravity is a very strong force, and it is the reason why we are able to stand up and walk around.\\n\\nThe reason why gravity exists is because of the way that matter is arranged in the universe. Matter is made up of atoms, and atoms are made up of protons, neutrons, and electrons. The protons and neutrons are in the center of the atom, and the electrons are around the outside. The protons and neutrons are very heavy, and the electrons are very light.\\n\\nThe protons and neutrons are attracted to each other, and the electrons are attracted to the protons and neutrons. This attraction is what causes gravity.\\n\\nThe reason why gravity is so strong is because the protons and neutrons are so heavy. The protons and neutrons are so heavy that they are able to attract each other very strongly. This attraction is what causes gravity.\\n\\nThe reason why gravity is so strong is because the protons and neutrons are so heavy. The protons and neutrons are so heavy that they are able to attract each other very strongly. This attraction is what causes gravity.\\n\\nThe reason why gravity is so strong is because the protons and neutrons are so heavy. The protons and neutrons are so heavy that they are able'}]"
      ]
     },
     "execution_count": 5,
     "metadata": {},
     "output_type": "execute_result"
    }
   ],
   "source": [
    "data"
   ]
  },
  {
   "cell_type": "code",
   "execution_count": null,
   "id": "80caf9f8-bfbe-49bc-94bd-34133998c465",
   "metadata": {},
   "outputs": [],
   "source": []
  }
 ],
 "metadata": {
  "kernelspec": {
   "display_name": "Python 3 (ipykernel)",
   "language": "python",
   "name": "python3"
  },
  "language_info": {
   "codemirror_mode": {
    "name": "ipython",
    "version": 3
   },
   "file_extension": ".py",
   "mimetype": "text/x-python",
   "name": "python",
   "nbconvert_exporter": "python",
   "pygments_lexer": "ipython3",
   "version": "3.12.2"
  }
 },
 "nbformat": 4,
 "nbformat_minor": 5
}
